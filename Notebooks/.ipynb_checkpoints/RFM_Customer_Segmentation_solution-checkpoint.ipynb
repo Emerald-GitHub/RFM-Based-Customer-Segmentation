{
 "cells": [
  {
   "cell_type": "markdown",
   "id": "1cc918e0",
   "metadata": {},
   "source": [
    "# What is RFM analysis"
   ]
  },
  {
   "cell_type": "markdown",
   "id": "3de684ba",
   "metadata": {},
   "source": [
    "RFM analysis is a marketing and customer segmentation technique used by businesses to understand and categorize their customers based on their past behavior. RFM stands for Recency, Frequency, and Monetary value, and it is a data-driven approach that helps businesses identify and target their most valuable customers.\n",
    "\n",
    "- **Recency (R):** Recency measures how recently a customer has made a purchase or interacted with a business. Customers who have engaged or made purchases more recently are often more valuable, as they are more likely to make repeat purchases.\n",
    "\n",
    "- **Frequency (F):** Frequency measures how often a customer makes purchases or interacts with a business over a specific period. Customers who engage with a business frequently are typically more loyal and may be more valuable in the long run.\n",
    "\n",
    "- **Monetary Value (M):** Monetary value, also known as \"Monetary,\" measures how much money a customer has spent on purchases or transactions with a business. Customers with higher monetary value are often more profitable for a business."
   ]
  },
  {
   "cell_type": "markdown",
   "id": "97fd40c9",
   "metadata": {},
   "source": [
    "# Import libraries"
   ]
  },
  {
   "cell_type": "code",
   "execution_count": null,
   "id": "d0eb9c9c",
   "metadata": {},
   "outputs": [],
   "source": [
    "%pip install yellowbrick\n",
    "\n",
    "import pandas as pd                                   # for data manipulation\n",
    "import numpy as np                                    # for numerical operations\n",
    "import seaborn as sns                                 # for statistical graphics\n",
    "import matplotlib.pyplot as plt                       # for data visualization\n",
    "import sklearn\n",
    "import datetime as dt                                 # for date handling\n",
    "from sklearn.cluster import KMeans\n",
    "from sklearn.preprocessing import StandardScaler\n",
    "import yellowbrick\n",
    "from yellowbrick.cluster import KElbowVisualizer\n",
    "from sklearn.decomposition import PCA\n",
    "\n",
    "import warnings                                       # to suppress warnings\n",
    "warnings.filterwarnings(\"ignore\")"
   ]
  },
  {
   "cell_type": "markdown",
   "id": "06c25ecc",
   "metadata": {},
   "source": [
    "# Load data"
   ]
  },
  {
   "cell_type": "code",
   "execution_count": null,
   "id": "8c6fab57",
   "metadata": {},
   "outputs": [],
   "source": [
    "# load dataset\n",
    "df = pd.read_csv(\"../data/bank_data_C.csv\")"
   ]
  },
  {
   "cell_type": "code",
   "execution_count": null,
   "id": "3206055d",
   "metadata": {},
   "outputs": [],
   "source": [
    "df.head()"
   ]
  },
  {
   "cell_type": "code",
   "execution_count": null,
   "id": "7b8ae61d",
   "metadata": {},
   "outputs": [],
   "source": [
    "df.describe()"
   ]
  },
  {
   "cell_type": "code",
   "execution_count": null,
   "id": "4d27e6bf",
   "metadata": {},
   "outputs": [],
   "source": [
    "# obtain descriptive statistics for every feature\n",
    "df.describe(include = \"all\")"
   ]
  },
  {
   "cell_type": "code",
   "execution_count": null,
   "id": "35493f4f",
   "metadata": {},
   "outputs": [],
   "source": [
    "# observe data-type for every feature\n",
    "df.dtypes"
   ]
  },
  {
   "cell_type": "code",
   "execution_count": null,
   "id": "c788f113",
   "metadata": {},
   "outputs": [],
   "source": [
    "df.info()"
   ]
  },
  {
   "cell_type": "markdown",
   "id": "bc76fd7b",
   "metadata": {},
   "source": [
    "# Data Cleaning and preparation"
   ]
  },
  {
   "cell_type": "code",
   "execution_count": null,
   "id": "eecab817",
   "metadata": {},
   "outputs": [],
   "source": [
    "df.head()"
   ]
  },
  {
   "cell_type": "code",
   "execution_count": null,
   "id": "2d30f4fd",
   "metadata": {},
   "outputs": [],
   "source": [
    "# Convert \"CustomerDOB\" and \"TransactionDate\" to datetime\n",
    "df[\"CustomerDOB\"] = pd.to_datetime(df[\"CustomerDOB\"])\n",
    "df[\"TransactionDate\"] = pd.to_datetime(df[\"TransactionDate\"], format = '%d/%m/%y')\n",
    "df['Month'] = df['TransactionDate'].dt.to_period('M').astype(str)\n",
    "monthly_txn = df.groupby('Month')['TransactionID'].count()"
   ]
  },
  {
   "cell_type": "code",
   "execution_count": null,
   "id": "547fc1e3",
   "metadata": {},
   "outputs": [],
   "source": [
    "# check for null values\n",
    "df.isnull().sum()"
   ]
  },
  {
   "cell_type": "code",
   "execution_count": null,
   "id": "0eb17fa1",
   "metadata": {},
   "outputs": [],
   "source": [
    "df.info()"
   ]
  },
  {
   "cell_type": "markdown",
   "id": "0e32ede9",
   "metadata": {},
   "source": [
    "**Create a new column for customer age**"
   ]
  },
  {
   "cell_type": "code",
   "execution_count": null,
   "id": "49631734",
   "metadata": {},
   "outputs": [],
   "source": [
    "# write fucntion to calculate age and create new column for it\n",
    "def calculate_age(df):\n",
    "    df[\"age\"] = df[\"TransactionDate\"].dt.year - df[\"CustomerDOB\"].dt.year\n",
    "    return df"
   ]
  },
  {
   "cell_type": "code",
   "execution_count": null,
   "id": "e83e430f",
   "metadata": {},
   "outputs": [],
   "source": [
    "df = calculate_age(df)\n",
    "df.head(10)"
   ]
  },
  {
   "cell_type": "markdown",
   "id": "1798bed8",
   "metadata": {},
   "source": [
    "**Observe and correct customers with negative age value**"
   ]
  },
  {
   "cell_type": "code",
   "execution_count": null,
   "id": "a47044cd",
   "metadata": {},
   "outputs": [],
   "source": [
    "# Observe the wrong date of births\n",
    "df[df[\"age\"] <= 0][\"CustomerDOB\"]"
   ]
  },
  {
   "cell_type": "code",
   "execution_count": null,
   "id": "c192f941",
   "metadata": {},
   "outputs": [],
   "source": [
    "# define function to correct negative age by adjusting date of birth\n",
    "def adjust_year(date):\n",
    "    \"\"\"this function subtracts 100 from all wrong date of birth entry\"\"\"\n",
    "    if date.year > 2016:\n",
    "        date = date.replace(year=date.year - 100)\n",
    "    return date"
   ]
  },
  {
   "cell_type": "code",
   "execution_count": null,
   "id": "eac9828a",
   "metadata": {},
   "outputs": [],
   "source": [
    "df[\"CustomerDOB\"] = df[\"CustomerDOB\"].apply(adjust_year)"
   ]
  },
  {
   "cell_type": "code",
   "execution_count": null,
   "id": "a4f12d81",
   "metadata": {
    "scrolled": true
   },
   "outputs": [],
   "source": [
    "df = calculate_age(df)\n",
    "df.head()"
   ]
  },
  {
   "cell_type": "code",
   "execution_count": null,
   "id": "85f8e2fb",
   "metadata": {},
   "outputs": [],
   "source": [
    "df.info()"
   ]
  },
  {
   "cell_type": "markdown",
   "id": "c5f354a3",
   "metadata": {},
   "source": [
    "# Exploratory Data Analysis (EDA)"
   ]
  },
  {
   "cell_type": "markdown",
   "id": "03a56888",
   "metadata": {},
   "source": [
    "## Customer Age Distribution"
   ]
  },
  {
   "cell_type": "code",
   "execution_count": null,
   "id": "5b957cc2",
   "metadata": {},
   "outputs": [],
   "source": [
    "# observe age distribution\n",
    "plt.figure(figsize = (10,6))\n",
    "sns.histplot(df['age'], bins=20, kde=True)\n",
    "plt.xlabel('Age')\n",
    "plt.ylabel('Frequency')\n",
    "plt.title('Age Distribution')\n",
    "plt.show()"
   ]
  },
  {
   "cell_type": "markdown",
   "id": "54ffeec7",
   "metadata": {},
   "source": [
    "Average life expectancy in india is 70year and in our data we have 56,292 customers with age above 100 all with same date of bith. It's suspicious and can be as a result of wrong entry or was probably entered in attempt to fill missing values.\n",
    "\n",
    "These data entries will be replaced with the mean value of age"
   ]
  },
  {
   "cell_type": "code",
   "execution_count": null,
   "id": "893e6d69",
   "metadata": {},
   "outputs": [],
   "source": [
    "def replace_age_outlier(df):\n",
    "    # Define a threshold for identifying age outliers\n",
    "    age_threshold = 1900  # Adjust this value as needed\n",
    "\n",
    "    # Find indices of age outliers\n",
    "    age_outliers = df[df[\"CustomerDOB\"].dt.year < age_threshold].index\n",
    "\n",
    "    # Calculate the mean age (excluding outliers)\n",
    "    mean_DOB = df[~df.index.isin(age_outliers)][\"CustomerDOB\"].mean()\n",
    "\n",
    "    # Replace age outliers with the mean age\n",
    "    df.loc[age_outliers, \"CustomerDOB\"] = mean_DOB\n",
    "\n",
    "    return df"
   ]
  },
  {
   "cell_type": "code",
   "execution_count": null,
   "id": "39027ded",
   "metadata": {},
   "outputs": [],
   "source": [
    "# apply function and calculate age again\n",
    "df = replace_age_outlier(df)\n",
    "df = calculate_age(df)"
   ]
  },
  {
   "cell_type": "code",
   "execution_count": null,
   "id": "7d85e603",
   "metadata": {},
   "outputs": [],
   "source": [
    "# observe age distribution again\n",
    "plt.figure(figsize = (10,6))\n",
    "sns.histplot(df['age'], bins=20, kde=True)\n",
    "plt.xlabel('Age')\n",
    "plt.ylabel('Frequency')\n",
    "plt.title('Age Distribution')\n",
    "plt.show()"
   ]
  },
  {
   "cell_type": "code",
   "execution_count": null,
   "id": "68ac1428",
   "metadata": {},
   "outputs": [],
   "source": [
    "df.head()"
   ]
  },
  {
   "cell_type": "markdown",
   "id": "07c27afd",
   "metadata": {},
   "source": [
    "### Gender Distribution"
   ]
  },
  {
   "cell_type": "code",
   "execution_count": null,
   "id": "8a770176",
   "metadata": {},
   "outputs": [],
   "source": [
    "# observe unique entries in gender\n",
    "df[\"CustGender\"].value_counts()"
   ]
  },
  {
   "cell_type": "code",
   "execution_count": null,
   "id": "fa3ef976",
   "metadata": {},
   "outputs": [],
   "source": [
    "# Replace 'T' with 'M' in the 'gender' column\n",
    "df[\"CustGender\"] = df['CustGender'].replace('T', 'M')"
   ]
  },
  {
   "cell_type": "code",
   "execution_count": null,
   "id": "f1a67e57",
   "metadata": {},
   "outputs": [],
   "source": [
    "plt.figure(figsize=(6,4))\n",
    "sns.countplot(x='CustGender', data=df, palette='pastel')\n",
    "plt.title(\"Gender Distribution\")\n",
    "plt.xlabel(\"Gender\")\n",
    "plt.ylabel(\"Count\")\n",
    "plt.show()"
   ]
  },
  {
   "cell_type": "markdown",
   "id": "31adcb4b",
   "metadata": {},
   "source": [
    "### Top Locations by Transaction Count"
   ]
  },
  {
   "cell_type": "code",
   "execution_count": null,
   "id": "01a185ac",
   "metadata": {
    "scrolled": true
   },
   "outputs": [],
   "source": [
    "df[\"CustLocation\"].value_counts()"
   ]
  },
  {
   "cell_type": "code",
   "execution_count": null,
   "id": "8855bc1a",
   "metadata": {},
   "outputs": [],
   "source": [
    "top_locations = df['CustLocation'].value_counts().head(10)\n",
    "\n",
    "plt.figure(figsize=(12,6))\n",
    "sns.barplot(x=top_locations.values, y=top_locations.index, palette='coolwarm')\n",
    "plt.title(\"Top 10 Customer Locations by Transactions\")\n",
    "plt.xlabel(\"Number of Transactions\")\n",
    "plt.ylabel(\"Location\")\n",
    "plt.show()"
   ]
  },
  {
   "cell_type": "markdown",
   "id": "9a9bbcf0",
   "metadata": {},
   "source": [
    "**Account Balance**"
   ]
  },
  {
   "cell_type": "code",
   "execution_count": null,
   "id": "fe567be1",
   "metadata": {},
   "outputs": [],
   "source": [
    "df[\"CustAccountBalance\"].sort_values(ascending = True)"
   ]
  },
  {
   "cell_type": "markdown",
   "id": "c31aec63",
   "metadata": {},
   "source": [
    "### Transaction Amount Distribution"
   ]
  },
  {
   "cell_type": "markdown",
   "id": "884f6416",
   "metadata": {},
   "source": [
    "Find transactions with 0 as amount and drop to avoid giving false values in transaction recency and frequency"
   ]
  },
  {
   "cell_type": "code",
   "execution_count": null,
   "id": "eea37aae",
   "metadata": {},
   "outputs": [],
   "source": [
    "df[df[\"TransactionAmount (INR)\"] == 0].value_counts().sum()"
   ]
  },
  {
   "cell_type": "code",
   "execution_count": null,
   "id": "a03425bb",
   "metadata": {},
   "outputs": [],
   "source": [
    "df.drop(df[df[\"TransactionAmount (INR)\"] == 0].index.tolist(), axis = 0, inplace = True)"
   ]
  },
  {
   "cell_type": "code",
   "execution_count": null,
   "id": "97068e12",
   "metadata": {},
   "outputs": [],
   "source": [
    "plt.figure(figsize=(10,6))\n",
    "sns.boxplot(df[\"TransactionAmount (INR)\"])\n",
    "plt.title(\"Transaction Amount Distribution\")\n",
    "plt.show()"
   ]
  },
  {
   "cell_type": "code",
   "execution_count": null,
   "id": "e36505f4",
   "metadata": {},
   "outputs": [],
   "source": [
    "df[\"CustomerID\"].nunique()"
   ]
  },
  {
   "cell_type": "code",
   "execution_count": null,
   "id": "5f2b26a6",
   "metadata": {},
   "outputs": [],
   "source": [
    "df.shape"
   ]
  },
  {
   "cell_type": "markdown",
   "id": "2805597d",
   "metadata": {},
   "source": [
    "We have 878,763 unique customerID and 1,040,794 data entries. Meaning we should expect low frequency values for each customers"
   ]
  },
  {
   "cell_type": "markdown",
   "id": "246d488b",
   "metadata": {},
   "source": [
    "### Transaction Trends Over Time"
   ]
  },
  {
   "cell_type": "code",
   "execution_count": null,
   "id": "e4cf24d6",
   "metadata": {},
   "outputs": [],
   "source": [
    "# plot the distibution of data across unique time points\n",
    "plt.figure(figsize = (12,8))\n",
    "sns.histplot(df['TransactionDate'], bins=3, kde=False)\n",
    "plt.xlabel('Transaction Date')\n",
    "plt.ylabel('Frequency')\n",
    "plt.title('Transaction Date Distribution')\n",
    "plt.show()"
   ]
  },
  {
   "cell_type": "markdown",
   "id": "cf60cdf4",
   "metadata": {},
   "source": [
    "The transaction dates spans between 3 months. This might result in low recency values and suppports the claim that frequency values are expected to be low."
   ]
  },
  {
   "cell_type": "code",
   "execution_count": null,
   "id": "d9f26a91",
   "metadata": {
    "scrolled": true
   },
   "outputs": [],
   "source": [
    "plt.figure(figsize=(10,4))\n",
    "monthly_txn.sort_values(ascending=True).plot(kind='barh', color='gold')\n",
    "plt.title(\"Monthly Transaction Volume\")\n",
    "plt.ylabel(\"Month\")\n",
    "plt.xlabel(\"Number of Transactions\")\n",
    "\n",
    "plt.show()"
   ]
  },
  {
   "cell_type": "code",
   "execution_count": null,
   "id": "91a2845f",
   "metadata": {},
   "outputs": [],
   "source": [
    "# Create a pie chart\n",
    "plt.figure(figsize=(8, 8))\n",
    "gender_count = df[\"CustGender\"].value_counts()\n",
    "plt.pie(gender_count,labels = gender_count.index, autopct='%1.1f%%', startangle=180)\n",
    "plt.title('Pie Chart of Data')\n",
    "\n",
    "plt.show()"
   ]
  },
  {
   "cell_type": "markdown",
   "id": "7187b622",
   "metadata": {},
   "source": [
    "The gender distribution is severly imbalanced so we might have more males in every segments gotten from our analysis"
   ]
  },
  {
   "cell_type": "code",
   "execution_count": null,
   "id": "1f5c9618",
   "metadata": {},
   "outputs": [],
   "source": [
    "# plot age distribution\n",
    "plt.figure(figsize = (12,8))\n",
    "sns.histplot(df['age'], bins=10, kde=False)\n",
    "plt.xlabel('Age')\n",
    "plt.ylabel('Frequency')\n",
    "plt.title('Age Distribution')\n",
    "plt.show()"
   ]
  },
  {
   "cell_type": "markdown",
   "id": "13b344f0",
   "metadata": {},
   "source": [
    "The above plot shows the age distibution of customers. Majority of customers falls within the 20 to 40 age range"
   ]
  },
  {
   "cell_type": "markdown",
   "id": "d30e6d4b",
   "metadata": {},
   "source": [
    "# Feature Engineering"
   ]
  },
  {
   "cell_type": "markdown",
   "id": "47907719",
   "metadata": {},
   "source": [
    "## RFM analysis"
   ]
  },
  {
   "cell_type": "code",
   "execution_count": null,
   "id": "f8dcb9d8",
   "metadata": {},
   "outputs": [],
   "source": [
    "df.head()"
   ]
  },
  {
   "cell_type": "markdown",
   "id": "9cfd92e1",
   "metadata": {},
   "source": [
    "## Recency"
   ]
  },
  {
   "cell_type": "markdown",
   "id": "e4b63476",
   "metadata": {},
   "source": [
    "Recency measures how recently a customer has engaged with your business, focusing on the time elapsed since their last interaction.\n",
    "To calculate for recency, we first have to establish a date to use as reference and measure every transaction date relative to it.\n",
    "\n",
    "\n",
    "The maximum date on the dataframe is used as our reference and the difference (in days) between a trasaction date and the maximum date is a measure of how recent that transaction is"
   ]
  },
  {
   "cell_type": "code",
   "execution_count": null,
   "id": "fc090e28",
   "metadata": {},
   "outputs": [],
   "source": [
    "day = df[\"TransactionDate\"].max() # obtain maximum date\n",
    "day = pd.to_datetime(day)           # convert to date-time"
   ]
  },
  {
   "cell_type": "code",
   "execution_count": null,
   "id": "3b759176",
   "metadata": {},
   "outputs": [],
   "source": [
    "recency = df.groupby([\"CustomerID\"]).agg({\"TransactionDate\": lambda x: ((day - x.max()).days) +1 }) #use lambda function to carryout differencing operation"
   ]
  },
  {
   "cell_type": "code",
   "execution_count": null,
   "id": "72ce6b00",
   "metadata": {},
   "outputs": [],
   "source": [
    "recency.head()"
   ]
  },
  {
   "cell_type": "markdown",
   "id": "1d3f891a",
   "metadata": {},
   "source": [
    "## Frequency"
   ]
  },
  {
   "cell_type": "markdown",
   "id": "35490c85",
   "metadata": {},
   "source": [
    "Frequency assesses how often a customer engages with your business over a specific period, counting the number of transactions or interactions.\n",
    "The frequency of a particular customer is calculated by counting every unique transactionID for that customer."
   ]
  },
  {
   "cell_type": "code",
   "execution_count": null,
   "id": "6bf2eeff",
   "metadata": {},
   "outputs": [],
   "source": [
    "frequency = df.drop_duplicates(subset = \"TransactionID\").groupby([\"CustomerID\"])[[\"TransactionID\"]].count()"
   ]
  },
  {
   "cell_type": "code",
   "execution_count": null,
   "id": "105ebff2",
   "metadata": {},
   "outputs": [],
   "source": [
    "frequency.head()"
   ]
  },
  {
   "cell_type": "markdown",
   "id": "2c2b6ec6",
   "metadata": {},
   "source": [
    "## Monetary Value"
   ]
  },
  {
   "cell_type": "markdown",
   "id": "4962cb6f",
   "metadata": {},
   "source": [
    "Monetary Value quantifies the total value of a customer's transactions over a specified time frame, reflecting how much they have spent on your products or services.\n",
    "A customers monetary value is calculated by taking the total sum of all transactions made by that customer"
   ]
  },
  {
   "cell_type": "code",
   "execution_count": null,
   "id": "0e6ba571",
   "metadata": {},
   "outputs": [],
   "source": [
    "monetary = df.groupby(\"CustomerID\")[[\"TransactionAmount (INR)\"]].sum()"
   ]
  },
  {
   "cell_type": "code",
   "execution_count": null,
   "id": "59300ed9",
   "metadata": {},
   "outputs": [],
   "source": [
    "monetary.head()"
   ]
  },
  {
   "cell_type": "markdown",
   "id": "5688554a",
   "metadata": {},
   "source": [
    "## Create RFM table"
   ]
  },
  {
   "cell_type": "code",
   "execution_count": null,
   "id": "b9eb9a61",
   "metadata": {},
   "outputs": [],
   "source": [
    "# create the RFM table\n",
    "RFM_table = pd.concat([recency,frequency,monetary], axis = 1)"
   ]
  },
  {
   "cell_type": "code",
   "execution_count": null,
   "id": "e1fa6129",
   "metadata": {},
   "outputs": [],
   "source": [
    "RFM_table = RFM_table.rename(columns = {\"TransactionDate\" : \"recency\",\"TransactionID\": \"frequency\",\"TransactionAmount (INR)\": \"monetary\" })\n",
    "RFM_table.head()"
   ]
  },
  {
   "cell_type": "code",
   "execution_count": null,
   "id": "f195de3c",
   "metadata": {},
   "outputs": [],
   "source": [
    "# Verify the accuracy of the table.\n",
    "df[df[\"CustomerID\"] == \"C1010012\" ]"
   ]
  },
  {
   "cell_type": "markdown",
   "id": "541d544a",
   "metadata": {},
   "source": [
    "## Explore RFM data"
   ]
  },
  {
   "cell_type": "code",
   "execution_count": null,
   "id": "1b52d44c",
   "metadata": {},
   "outputs": [],
   "source": [
    "fig, axes = plt.subplots(1, 3, figsize=(15, 5))\n",
    "\n",
    "# Create a list of column names\n",
    "columns = ['recency', 'frequency', 'monetary']\n",
    "\n",
    "# Use a for loop to plot histograms for each column\n",
    "for i, col in enumerate(columns):\n",
    "    axes[i].hist(RFM_table[col], bins=10, color='skyblue', edgecolor='black')\n",
    "    axes[i].set_title(col)\n",
    "    axes[i].set_xlabel('Days' if col == 'recency' else 'Count' if col == 'frequency' else 'Dollars')\n",
    "    axes[i].set_ylabel(col)\n",
    "\n",
    "# Adjust layout and display the plot\n",
    "plt.tight_layout()\n",
    "plt.show()"
   ]
  },
  {
   "cell_type": "code",
   "execution_count": null,
   "id": "64c5d4c6",
   "metadata": {},
   "outputs": [],
   "source": [
    "plt.figure(figsize=(8, 6))\n",
    "plt.hist(RFM_table[\"monetary\"], bins=np.logspace(0, 5, 20), color='skyblue', edgecolor='black')\n",
    "plt.title('Monetary Value Distribution')\n",
    "plt.xlabel('Monetary Value (log scale)')\n",
    "plt.ylabel('Frequency (log scale)')\n",
    "plt.xscale('log')  # Set x-axis to logarithmic scale\n",
    "plt.yscale('log')  # Set y-axis to logarithmic scale\n",
    "plt.show()"
   ]
  },
  {
   "cell_type": "markdown",
   "id": "0434b3b7",
   "metadata": {},
   "source": [
    "**Observe correlation**"
   ]
  },
  {
   "cell_type": "code",
   "execution_count": null,
   "id": "b32e92cd",
   "metadata": {},
   "outputs": [],
   "source": [
    "RFM_table.corr()"
   ]
  },
  {
   "cell_type": "markdown",
   "id": "4831af6e",
   "metadata": {},
   "source": [
    "No strong correlation between features"
   ]
  },
  {
   "cell_type": "markdown",
   "id": "083c7314",
   "metadata": {},
   "source": [
    "## Assign RFM score and Customer Segmentation"
   ]
  },
  {
   "cell_type": "code",
   "execution_count": null,
   "id": "6be9e8b4",
   "metadata": {},
   "outputs": [],
   "source": [
    "RFM_table.head()"
   ]
  },
  {
   "cell_type": "code",
   "execution_count": null,
   "id": "31733ba5",
   "metadata": {},
   "outputs": [],
   "source": [
    "# Calculate quartiles for each RFM component\n",
    "quartiles = RFM_table[['recency', 'frequency', 'monetary']].quantile(q=[0.25, 0.5, 0.75]).to_dict()"
   ]
  },
  {
   "cell_type": "code",
   "execution_count": null,
   "id": "a2691ece",
   "metadata": {},
   "outputs": [],
   "source": [
    "quartiles"
   ]
  },
  {
   "cell_type": "code",
   "execution_count": null,
   "id": "5d298b40",
   "metadata": {},
   "outputs": [],
   "source": [
    "RFM_table[\"frequency\"].value_counts()"
   ]
  },
  {
   "cell_type": "code",
   "execution_count": null,
   "id": "0c9ae0fe",
   "metadata": {},
   "outputs": [],
   "source": [
    "def assign_R_score(x, feature):\n",
    "    \"\"\"this function is used to assign recency score\n",
    "    the more recent a customer's latest transaction is, the higher the recency score\"\"\"\n",
    "\n",
    "    if x <= quartiles[feature][0.25]:\n",
    "        return 4\n",
    "    elif x <= quartiles[feature][0.5]:\n",
    "        return 3\n",
    "    elif x <= quartiles[feature][0.75]:\n",
    "        return 2\n",
    "    else:\n",
    "        return 1\n",
    "\n",
    "def assign_M_score(x, feature):\n",
    "    \"\"\"This function is used for assigning monetary score.\n",
    "    the higher the monetary value, the higher the monetary score\"\"\"\n",
    "\n",
    "    if x <= quartiles[feature][0.25]:\n",
    "        return 1\n",
    "    elif x <= quartiles[feature][0.5]:\n",
    "        return 2\n",
    "    elif x <= quartiles[feature][0.75]:\n",
    "        return 3\n",
    "    else:\n",
    "        return 4"
   ]
  },
  {
   "cell_type": "code",
   "execution_count": null,
   "id": "fe77a3df",
   "metadata": {},
   "outputs": [],
   "source": [
    "def custom_frequency_score(x):\n",
    "    \"\"\"This function is used for assigning frequency score.\n",
    "    frequency of 1,2 and 3 are assgned scores of 1,2 and 3 respectively\n",
    "    and frequency of 4,5,and 6 are assigned scores of 4\"\"\"\n",
    "\n",
    "    if x <= 3:\n",
    "        return x\n",
    "    else:\n",
    "        return 4"
   ]
  },
  {
   "cell_type": "markdown",
   "id": "2ca6de94",
   "metadata": {},
   "source": [
    "- Bin 1: One-time customers.\n",
    "\n",
    "- Bin 2: Low repeaters (2 txns).\n",
    "\n",
    "- Bin 3: Moderate (3 txns).\n",
    "\n",
    "- Bin 4: High frequency (4+ txns)."
   ]
  },
  {
   "cell_type": "code",
   "execution_count": null,
   "id": "df8ae25b",
   "metadata": {},
   "outputs": [],
   "source": [
    "# Assign quartile scores for recency\n",
    "RFM_table['R_score'] = RFM_table['recency'].apply(lambda x: assign_R_score(x, 'recency'))\n",
    "\n",
    "# Assign custom Frequency scores\n",
    "RFM_table['F_score'] = RFM_table['frequency'].apply(custom_frequency_score)\n",
    "\n",
    "# Assign quartile scores for monetary component\n",
    "RFM_table['M_score'] = RFM_table['monetary'].apply(lambda x: assign_M_score(x, 'monetary'))"
   ]
  },
  {
   "cell_type": "code",
   "execution_count": null,
   "id": "a4feac1f",
   "metadata": {},
   "outputs": [],
   "source": [
    "# Calculate the RFM score by combining the three individual scores\n",
    "RFM_table['RFM_group'] = RFM_table['R_score'].astype(str) + RFM_table['F_score'].astype(str) + RFM_table['M_score'].astype(str)"
   ]
  },
  {
   "cell_type": "code",
   "execution_count": null,
   "id": "bbbd2f65",
   "metadata": {},
   "outputs": [],
   "source": [
    "RFM_table.head()"
   ]
  },
  {
   "cell_type": "markdown",
   "id": "4fa492a4",
   "metadata": {},
   "source": [
    "**Create the RFM score**\n",
    "\n",
    "summing up the values for each RFM component works under the assumption that each components are equally valuable. To properly segment customers based on the values gotten from the summation, the range for segmentation has to be clearly defined.\n",
    "\n",
    "- High: High valued customers should be between the range of **12** - **10**. This category of customers are the most loyal customers with have high recency, frequency and monetary values.\n",
    "- Medium: medium valued customers should be between the range of **9** to  **6**. This category contains customers that are moderatly loyal with average RFM score.\n",
    "- Low: Low valued customers should be between the range of **5** to **3**. This category contains customers with high risk of churn."
   ]
  },
  {
   "cell_type": "code",
   "execution_count": null,
   "id": "3ffc933a",
   "metadata": {},
   "outputs": [],
   "source": [
    "RFM_table[\"RFM_score\"] = RFM_table[['R_score', 'M_score', 'F_score']].sum(axis = 1)"
   ]
  },
  {
   "cell_type": "code",
   "execution_count": null,
   "id": "6f49eec1",
   "metadata": {},
   "outputs": [],
   "source": [
    "RFM_table.head()"
   ]
  },
  {
   "cell_type": "code",
   "execution_count": null,
   "id": "03287f5e",
   "metadata": {},
   "outputs": [],
   "source": [
    "plt.figure(figsize = (20,8))\n",
    "sns.countplot( x = RFM_table[\"RFM_score\"])"
   ]
  },
  {
   "cell_type": "markdown",
   "id": "d3a20bde",
   "metadata": {},
   "source": [
    "**Customer Segmentation**"
   ]
  },
  {
   "cell_type": "code",
   "execution_count": null,
   "id": "3480914d",
   "metadata": {},
   "outputs": [],
   "source": [
    "def assign_segments(x):  \n",
    "    if x >= 9:\n",
    "        return \"Best Customers\"\n",
    "    elif x >= 6:\n",
    "        return \"Loyal Customers\"\n",
    "    elif x >= 4:\n",
    "        return \"At Risk\"\n",
    "    else:\n",
    "        return \"Churned\""
   ]
  },
  {
   "cell_type": "code",
   "execution_count": null,
   "id": "17f98f5a",
   "metadata": {},
   "outputs": [],
   "source": [
    "RFM_table[\"segments\"] = RFM_table[\"RFM_score\"].apply(lambda x: assign_segments(x))"
   ]
  },
  {
   "cell_type": "code",
   "execution_count": null,
   "id": "217915e0",
   "metadata": {},
   "outputs": [],
   "source": [
    "RFM_table.head()"
   ]
  },
  {
   "cell_type": "code",
   "execution_count": null,
   "id": "34c23123",
   "metadata": {},
   "outputs": [],
   "source": [
    "plt.figure(figsize = (10,8))\n",
    "sns.countplot( x = RFM_table[\"segments\"])"
   ]
  },
  {
   "cell_type": "markdown",
   "id": "dfc56bd0",
   "metadata": {},
   "source": [
    "From the chart above,\n",
    "- we have more medium valued customers who are either potential high valued customers or potential low valued customers.\n",
    "\n",
    "- The number of customers that stand the risk of churning is too high (low valued customers)\n",
    "\n",
    "- Low number of high valued/ Best customers."
   ]
  },
  {
   "cell_type": "markdown",
   "id": "bc3354ba",
   "metadata": {},
   "source": [
    "**Create weighted RFM score**"
   ]
  },
  {
   "cell_type": "markdown",
   "id": "03ef7208",
   "metadata": {},
   "source": [
    "In creating a weighted a RFM score, we have to consider the aim of the firm.\n",
    "\n",
    "- Recency:  In a new bank, customer retention and engagement are often top priorities. Consider giving Recency significant weight **(2)**.\n",
    "\n",
    "- Frequency:  In a new bank, especially during the first few months, customers might not have had many interactions. However, you still want to encourage regular engagement. Give some weight to Frequency, but not as much as Recency **(1)**.\n",
    "\n",
    "- Monetary:  Monetary reflects the amount of money customers have transacted with the bank. While this is important, in the early stages, you might not have a full view of each customer's monetary value. Give it moderate weight as well **(1)**."
   ]
  },
  {
   "cell_type": "code",
   "execution_count": null,
   "id": "6eca196b",
   "metadata": {},
   "outputs": [],
   "source": [
    "RFM_table['weighted_score'] = (RFM_table['R_score'] * 2) + (RFM_table[\"F_score\"] * 1) + (RFM_table['M_score'] * 1)"
   ]
  },
  {
   "cell_type": "code",
   "execution_count": null,
   "id": "ea95729e",
   "metadata": {},
   "outputs": [],
   "source": [
    "RFM_table.head()"
   ]
  },
  {
   "cell_type": "code",
   "execution_count": null,
   "id": "4be5ec8c",
   "metadata": {},
   "outputs": [],
   "source": [
    "plt.figure(figsize = (20,8))\n",
    "sns.countplot( x = RFM_table[\"weighted_score\"])"
   ]
  },
  {
   "cell_type": "code",
   "execution_count": null,
   "id": "a1766228",
   "metadata": {},
   "outputs": [],
   "source": [
    "RFM_table[\"weighted_segments\"] = RFM_table[\"weighted_score\"].apply(lambda x: assign_segments(x))"
   ]
  },
  {
   "cell_type": "code",
   "execution_count": null,
   "id": "8e7d0a98",
   "metadata": {},
   "outputs": [],
   "source": [
    "plt.figure(figsize = (10,8))\n",
    "sns.countplot( x = RFM_table[\"weighted_segments\"])"
   ]
  },
  {
   "cell_type": "markdown",
   "id": "105a68fd",
   "metadata": {},
   "source": [
    "Placing more priority on a customer recency, we then have more high valued customers than customers who are likely to churn according to our analysis (low valued customers)"
   ]
  },
  {
   "cell_type": "markdown",
   "id": "76156fe5",
   "metadata": {},
   "source": [
    "# K-means Customer segmentation"
   ]
  },
  {
   "cell_type": "markdown",
   "id": "aec2e14c",
   "metadata": {},
   "source": [
    "Instead of segmenting customers based on total RFM score alone, we are going to utilize machine learning algorithm to discover unique clusters based on the underlying information from the RFM data."
   ]
  },
  {
   "cell_type": "markdown",
   "id": "fafc0d3c",
   "metadata": {},
   "source": [
    "**Create data for k-means clustering**"
   ]
  },
  {
   "cell_type": "code",
   "execution_count": null,
   "id": "5a418cbf",
   "metadata": {},
   "outputs": [],
   "source": [
    "RFM_data = RFM_table.drop([\"RFM_group\", \"segments\", \"weighted_score\", \"weighted_segments\"], axis = 1)\n",
    "RFM_data.head(3)"
   ]
  },
  {
   "cell_type": "markdown",
   "id": "20a1ab5f",
   "metadata": {},
   "source": [
    "**Implement standard scaling**"
   ]
  },
  {
   "cell_type": "code",
   "execution_count": null,
   "id": "439a6044",
   "metadata": {},
   "outputs": [],
   "source": [
    "ss = StandardScaler()\n",
    "scaled_data = ss.fit_transform(RFM_data)"
   ]
  },
  {
   "cell_type": "code",
   "execution_count": null,
   "id": "6dee1131",
   "metadata": {},
   "outputs": [],
   "source": [
    "scaled_data"
   ]
  },
  {
   "cell_type": "markdown",
   "id": "98fe98d0",
   "metadata": {},
   "source": [
    "**Implement clustering algorithm**"
   ]
  },
  {
   "cell_type": "code",
   "execution_count": null,
   "id": "f9619b6c",
   "metadata": {},
   "outputs": [],
   "source": [
    "model = KMeans(random_state = 1)"
   ]
  },
  {
   "cell_type": "markdown",
   "id": "f6ff9fde",
   "metadata": {},
   "source": [
    "**Using distortion metric**"
   ]
  },
  {
   "cell_type": "code",
   "execution_count": null,
   "id": "44369d43",
   "metadata": {},
   "outputs": [],
   "source": [
    "plot_model = KElbowVisualizer(model, k=(1,10), metric='distortion', timings=False)\n",
    "plot_model.fit(scaled_data)"
   ]
  },
  {
   "cell_type": "markdown",
   "id": "86d034a5",
   "metadata": {},
   "source": [
    "**Using calinski_harabasz metric**"
   ]
  },
  {
   "cell_type": "code",
   "execution_count": null,
   "id": "88c59d27",
   "metadata": {},
   "outputs": [],
   "source": [
    "plot_model_2 = KElbowVisualizer(model, k=(2,7), metric='calinski_harabasz', timings=False)\n",
    "plot_model_2.fit(scaled_data)"
   ]
  },
  {
   "cell_type": "markdown",
   "id": "60ecdbb0",
   "metadata": {},
   "source": [
    "Both distortion and calinski_harabasz metric suggested 3 clusters as the optimal number of cluster for the data"
   ]
  },
  {
   "cell_type": "markdown",
   "id": "13efc053",
   "metadata": {},
   "source": [
    "## Cluster assignment"
   ]
  },
  {
   "cell_type": "code",
   "execution_count": null,
   "id": "86ff3b69",
   "metadata": {},
   "outputs": [],
   "source": [
    "# Fit model with chosen number of clusters (e.g., 3)\n",
    "final_model = KMeans(random_state = 1, n_clusters = 3)\n",
    "RFM_data[\"Cluster\"] = final_model.fit_predict(scaled_data)"
   ]
  },
  {
   "cell_type": "code",
   "execution_count": null,
   "id": "e44ba412",
   "metadata": {},
   "outputs": [],
   "source": [
    "RFM_data.head()"
   ]
  },
  {
   "cell_type": "markdown",
   "id": "b25742c2",
   "metadata": {},
   "source": [
    "**Visualize clusters**"
   ]
  },
  {
   "cell_type": "code",
   "execution_count": null,
   "id": "183871c8",
   "metadata": {},
   "outputs": [],
   "source": [
    "#visualize cluster distribution based on recency and monitary\n",
    "plt.figure(figsize= (10,10))\n",
    "sns.scatterplot(data = RFM_data, x = RFM_data[\"recency\"], y= RFM_data[\"monetary\"], hue = RFM_data[\"Cluster\"], palette='viridis')"
   ]
  },
  {
   "cell_type": "code",
   "execution_count": null,
   "id": "b28b0075",
   "metadata": {},
   "outputs": [],
   "source": [
    "# Create a 3D scatter plot\n",
    "fig = plt.figure(figsize=(10, 10))\n",
    "ax = fig.add_subplot(111, projection='3d')\n",
    "\n",
    "# Define colors for different clusters\n",
    "colors = ['b', 'g', 'r', 'y']\n",
    "\n",
    "# Plot the RFM data points with different colors for each cluster\n",
    "for cluster, color in zip(RFM_data[\"Cluster\"].unique(), colors):\n",
    "    cluster_data = RFM_data[RFM_data[\"Cluster\"] == cluster]\n",
    "    ax.scatter(cluster_data[\"recency\"], cluster_data[\"frequency\"], cluster_data[\"monetary\"], c=color,s=50, marker='o', label=f'Cluster {cluster}')\n",
    "\n",
    "# Set axis labels\n",
    "ax.set_xlabel('Recency (days)')\n",
    "ax.set_ylabel('Frequency')\n",
    "ax.set_zlabel('Monetary Value')\n",
    "\n",
    "# Add a legend\n",
    "ax.legend()\n",
    "\n",
    "# Set the plot title\n",
    "plt.title('3D Plot of RFM Data with Cluster Coloring')\n",
    "\n",
    "# Show the plot\n",
    "plt.show()"
   ]
  },
  {
   "cell_type": "code",
   "execution_count": null,
   "id": "86e98904",
   "metadata": {},
   "outputs": [],
   "source": [
    "sns.countplot(x=RFM_data[\"Cluster\"], palette= \"viridis\")"
   ]
  },
  {
   "cell_type": "markdown",
   "id": "f470bd6f",
   "metadata": {},
   "source": [
    "Compared to the customer segments we created using the RFM score alone, the segments gotten from the k-means technique has more fair distribution of customers."
   ]
  },
  {
   "cell_type": "code",
   "execution_count": null,
   "id": "6196031e",
   "metadata": {},
   "outputs": [],
   "source": [
    "#to oberserve descriptive statistics for each clusters\n",
    "for cluster in RFM_data['Cluster'].unique():\n",
    "    print(f\"Cluster: {cluster}\")\n",
    "    print(RFM_data[RFM_data['Cluster'] == cluster].describe())"
   ]
  },
  {
   "cell_type": "code",
   "execution_count": null,
   "id": "a9655c6d",
   "metadata": {},
   "outputs": [],
   "source": [
    "cluster_0 = RFM_data[RFM_data[\"Cluster\"] == 0]\n",
    "cluster_1 = RFM_data[RFM_data[\"Cluster\"] == 1]\n",
    "cluster_2 = RFM_data[RFM_data[\"Cluster\"] == 2]"
   ]
  },
  {
   "cell_type": "code",
   "execution_count": null,
   "id": "f066ed55",
   "metadata": {},
   "outputs": [],
   "source": [
    "plt.figure(figsize=(10, 6))  # Optional: Set the figure size\n",
    "sns.boxplot(data=cluster_0[['R_score', 'F_score', 'M_score', 'RFM_score']])\n",
    "plt.title(f\"cluster_0\")\n",
    "plt.ylabel('Values')\n",
    "plt.xlabel('Features')\n",
    "plt.show()\n",
    "\n",
    "plt.figure(figsize=(10, 6))  # Optional: Set the figure size\n",
    "sns.boxplot(data=cluster_1[['R_score', 'F_score', 'M_score', 'RFM_score']])\n",
    "plt.title(f\"cluster_1\")\n",
    "plt.ylabel('Values')\n",
    "plt.xlabel('Features')\n",
    "plt.show()\n",
    "\n",
    "\n",
    "plt.figure(figsize=(10, 6))  # Optional: Set the figure size\n",
    "sns.boxplot(data=cluster_2[['R_score', 'F_score', 'M_score', 'RFM_score']])\n",
    "plt.title(f\"cluster_2\")\n",
    "plt.ylabel('Values')\n",
    "plt.xlabel('Features')\n",
    "plt.show()"
   ]
  },
  {
   "cell_type": "markdown",
   "id": "33deac79",
   "metadata": {},
   "source": [
    "**CLUSTER DESCRIPTION**"
   ]
  },
  {
   "cell_type": "markdown",
   "id": "af7a444b",
   "metadata": {},
   "source": [
    "- **Cluster 0:**\n",
    "     - ALL customers in this cluster have **Low Recency score** (1 to 2)\n",
    "     - All customers have **low frequency score of 1** with a few outliers with 2 F-score\n",
    "     - 50% of customers have monetary score are between 1 to 2 amd the other 50% has M-score from 2 to 4. The average M-score of this cluster is 2\n",
    "     - 75% of customers have RFM_score between 4 to 7"
   ]
  },
  {
   "cell_type": "markdown",
   "id": "aa32d8da",
   "metadata": {},
   "source": [
    "- **Cluster 1:**\n",
    "     - All customers have **very high recency score** between 3 to 4\n",
    "     - All customers have **low frequency score** of 1\n",
    "     - 50% of customers have monetary score are between 1 to 2 amd the other 50% has M-score from 2 to 4. The average M-score of this cluster is 2. Same as cluster 0\n",
    "     - 75% of customers have RFM_score between 6 to 9"
   ]
  },
  {
   "cell_type": "markdown",
   "id": "b414f6f3",
   "metadata": {},
   "source": [
    "- **Cluster 2:**\n",
    "     - 75% of customers have **high recency score** between 2 to 4 with average value of 3\n",
    "     - All customers have **fairly high frequency score** of 2 with a few outliers having F-score of 1, 3 and 4\n",
    "     - Almost all customers have **high monetary score** between 2 and 4 with a few outliers having an M-score of 1\n",
    "     - 75% of customers have **high RFM score** between 8 to 12 and the remaining 25% have an RFM_score between 5 to 8"
   ]
  },
  {
   "cell_type": "markdown",
   "id": "fa68ce9c",
   "metadata": {},
   "source": [
    "Cluster 2 has customers with better all round performance followed by cluster 1 and cluster 0 has customers with poor all round scores."
   ]
  },
  {
   "cell_type": "code",
   "execution_count": null,
   "id": "ffdf5001",
   "metadata": {},
   "outputs": [],
   "source": [
    "# Save RFM + Clustering results\n",
    "RFM_table.to_csv(\"rfm_segmented.csv\", index=False)"
   ]
  },
  {
   "cell_type": "code",
   "execution_count": null,
   "id": "b9544e98",
   "metadata": {},
   "outputs": [],
   "source": [
    "# View all unique RFM-based segments\n",
    "print(RFM_table['segments'].unique())"
   ]
  },
  {
   "cell_type": "code",
   "execution_count": null,
   "id": "baeb0612",
   "metadata": {},
   "outputs": [],
   "source": [
    "RFM_table.head()"
   ]
  },
  {
   "cell_type": "code",
   "execution_count": null,
   "id": "c58fcfa8",
   "metadata": {},
   "outputs": [],
   "source": [
    "data = pd.read_csv(\"../data/rfm_segmented.csv\")\n",
    "data.head()"
   ]
  }
 ],
 "metadata": {
  "kernelspec": {
   "display_name": "Python 3 (ipykernel)",
   "language": "python",
   "name": "python3"
  },
  "language_info": {
   "codemirror_mode": {
    "name": "ipython",
    "version": 3
   },
   "file_extension": ".py",
   "mimetype": "text/x-python",
   "name": "python",
   "nbconvert_exporter": "python",
   "pygments_lexer": "ipython3",
   "version": "3.11.4"
  }
 },
 "nbformat": 4,
 "nbformat_minor": 5
}
